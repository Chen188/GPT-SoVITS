{
 "cells": [
  {
   "cell_type": "markdown",
   "id": "096b3004",
   "metadata": {},
   "source": [
    "# GPT-SoVITS on Sagemaker"
   ]
  },
  {
   "cell_type": "markdown",
   "id": "21ec2e51",
   "metadata": {},
   "source": [
    "## build image"
   ]
  },
  {
   "cell_type": "code",
   "execution_count": null,
   "id": "07fd36b7",
   "metadata": {
    "tags": []
   },
   "outputs": [],
   "source": [
    "!chmod +x ./*.sh && ./build_and_push.sh "
   ]
  },
  {
   "cell_type": "code",
   "execution_count": null,
   "id": "11514ade-df1c-4260-8797-83bfc5b279e7",
   "metadata": {},
   "outputs": [],
   "source": [
    "import boto3\n",
    "import sagemaker\n",
    "from sagemaker import Model, image_uris, serializers, deserializers\n",
    "\n",
    "role = sagemaker.get_execution_role()  # execution role for the endpoint\n",
    "sess = sagemaker.session.Session()  # sagemaker session for interacting with different AWS APIs\n",
    "region = sess._region_name  # region name of the current SageMaker Studio environment\n",
    "account_id = sess.account_id()  # account_id of the current SageMaker Studio environment\n",
    "bucket = sess.default_bucket()\n",
    "image=\"gpt-sovits-inference\"\n",
    "s3_client = boto3.client(\"s3\")\n",
    "sm_client = boto3.client(\"sagemaker\")\n",
    "smr_client = boto3.client(\"sagemaker-runtime\")\n",
    "\n",
    "full_image_uri=f\"{account_id}.dkr.ecr.{region}.amazonaws.com/{image}:latest\"\n",
    "print(full_image_uri)\n"
   ]
  },
  {
   "cell_type": "markdown",
   "id": "a54bf5b1",
   "metadata": {
    "tags": []
   },
   "source": [
    "## remote debug test"
   ]
  },
  {
   "cell_type": "code",
   "execution_count": null,
   "id": "131fe9fa-f2a3-49e0-8a83-156b00980d6d",
   "metadata": {},
   "outputs": [],
   "source": [
    "## empty model data for byoc with webserver\n",
    "!touch dummy\n",
    "!tar czvf model.tar.gz dummy\n",
    "assets_dir = 's3://{0}/{1}/assets/'.format(bucket, 'gpt_sovits')\n",
    "model_data = 's3://{0}/{1}/assets/model.tar.gz'.format(bucket, 'gpt_sovits')\n",
    "!aws s3 cp model.tar.gz $assets_dir\n",
    "!rm -f dummy model.tar.gz"
   ]
  },
  {
   "cell_type": "code",
   "execution_count": null,
   "id": "a9a45469-989b-4709-bc1f-8c6a59ac6fc0",
   "metadata": {},
   "outputs": [],
   "source": [
    "from sagemaker_ssh_helper.wrapper import SSHModelWrapper\n",
    "model = Model(image_uri=full_image_uri, model_data=model_data, role=role,dependencies=[SSHModelWrapper.dependency_dir()] )"
   ]
  },
  {
   "cell_type": "code",
   "execution_count": null,
   "id": "73e60433-09e8-449e-9fc5-6fbd639d98f2",
   "metadata": {},
   "outputs": [],
   "source": [
    "from sagemaker_ssh_helper.wrapper import SSHModelWrapper\n",
    "instance_type = \"ml.g5.xlarge\"\n",
    "endpoint_name = sagemaker.utils.name_from_base(\"gpt-sovits-inference\")\n",
    "\n",
    "\n",
    "ssh_wrapper = SSHModelWrapper.create(model, connection_wait_time_seconds=0)  # <--NEW--\n",
    "\n",
    "predictor = model.deploy(\n",
    "    initial_instance_count=1,\n",
    "    instance_type=instance_type,\n",
    "    endpoint_name=endpoint_name,\n",
    "    wait=False\n",
    ")\n",
    "\n",
    "\n",
    "#instance_ids = ssh_wrapper.get_instance_ids(timeout_in_sec=900)  # <--NEW-- \n",
    "#print(f\"To connect over SSM run: aws ssm start-session --target {instance_ids[0]}\")"
   ]
  },
  {
   "cell_type": "code",
   "execution_count": null,
   "id": "049dd079-5fc7-4bd1-a473-0a19901cc390",
   "metadata": {
    "tags": []
   },
   "outputs": [],
   "source": [
    "instance_ids = ssh_wrapper.get_instance_ids(timeout_in_sec=0)"
   ]
  },
  {
   "cell_type": "code",
   "execution_count": null,
   "id": "e64f214c-f125-44a8-ae46-0efc7b230d12",
   "metadata": {
    "tags": []
   },
   "outputs": [],
   "source": [
    "instance_ids[0]"
   ]
  },
  {
   "cell_type": "markdown",
   "id": "6abe8919-0bb9-43c0-8d03-4a2a2a1e9a2e",
   "metadata": {
    "tags": []
   },
   "source": [
    "## SM endpoint test"
   ]
  },
  {
   "cell_type": "markdown",
   "id": "a1663aa2",
   "metadata": {
    "jp-MarkdownHeadingCollapsed": true,
    "tags": []
   },
   "source": [
    "### create sagemaker model"
   ]
  },
  {
   "cell_type": "code",
   "execution_count": null,
   "id": "3623fcd0",
   "metadata": {},
   "outputs": [],
   "source": [
    "import boto3\n",
    "import re\n",
    "import os\n",
    "import json\n",
    "import uuid\n",
    "import boto3\n",
    "import sagemaker\n",
    "from time import gmtime, strftime\n",
    "## for debug only\n",
    "from sagemaker_ssh_helper.wrapper import SSHModelWrapper\n",
    "sm_client = boto3.client(service_name='sagemaker')\n",
    "\n",
    "\n",
    "\n",
    "def create_model():\n",
    "    image=full_image_uri\n",
    "    model_name=\"gpt-sovits-sagemaker-\"+strftime(\"%Y-%m-%d-%H-%M-%S\", gmtime())\n",
    "    create_model_response = sm_client.create_model(\n",
    "        ModelName=model_name,\n",
    "        ExecutionRoleArn=role,\n",
    "        Containers=[{\"Image\": image}],\n",
    "    )\n",
    "    print(create_model_response)\n",
    "    return model_name"
   ]
  },
  {
   "cell_type": "code",
   "execution_count": null,
   "id": "e913d8d0",
   "metadata": {},
   "outputs": [],
   "source": [
    "model_name=create_model()\n"
   ]
  },
  {
   "cell_type": "markdown",
   "id": "4159960d",
   "metadata": {
    "jp-MarkdownHeadingCollapsed": true,
    "tags": []
   },
   "source": [
    "### create endpoint configuration"
   ]
  },
  {
   "cell_type": "code",
   "execution_count": null,
   "id": "01b4ba47",
   "metadata": {},
   "outputs": [],
   "source": [
    "endpointConfigName = \"gpt-sovits-sagemaker-configuration-\"+strftime(\"%Y-%m-%d-%H-%M-%S\", gmtime())\n",
    "def create_endpoint_configuration():\n",
    "    create_endpoint_config_response = sm_client.create_endpoint_config(     \n",
    "        EndpointConfigName=endpointConfigName,\n",
    "        ProductionVariants=[\n",
    "            {\n",
    "                #\"ModelName\":\"gpt-sovits-sagemaker-012024-03-28-04-00-03\",\n",
    "                \"ModelName\":model_name,\n",
    "                \"VariantName\": \"gpt-sovits-sagemaker\"+\"-variant\",\n",
    "                \"InstanceType\": \"ml.g5.xlarge\",  # 指定 g5.xlarge 机器\n",
    "                \"InitialInstanceCount\": 1,\n",
    "                \"ModelDataDownloadTimeoutInSeconds\": 1200,\n",
    "                \"ContainerStartupHealthCheckTimeoutInSeconds\": 1200\n",
    "            }\n",
    "        ],\n",
    "    )\n",
    "    print(create_endpoint_config_response)\n",
    "    return endpointConfigName\n"
   ]
  },
  {
   "cell_type": "code",
   "execution_count": null,
   "id": "d06fb9ae",
   "metadata": {},
   "outputs": [],
   "source": [
    "create_endpoint_configuration()\n"
   ]
  },
  {
   "cell_type": "markdown",
   "id": "e6e35082",
   "metadata": {
    "jp-MarkdownHeadingCollapsed": true,
    "tags": []
   },
   "source": [
    "### create endpoint"
   ]
  },
  {
   "cell_type": "code",
   "execution_count": null,
   "id": "40abb7a9",
   "metadata": {},
   "outputs": [],
   "source": [
    "endpointName=\"gpt-sovits-sagemaker-endpoint\"+strftime(\"%Y-%m-%d-%H-%M-%S\", gmtime())\n",
    "def create_endpoint():\n",
    "    create_endpoint_response = sm_client.create_endpoint(\n",
    "        EndpointName=endpointName,\n",
    "        #EndpointConfigName=\"gpt-sovits-sagemaker-configuration2024-03-28-04-03-53\",\n",
    "        EndpointConfigName=endpointConfigName\n",
    "    )\n",
    "    print(\"Endpoint Arn: \" + create_endpoint_response[\"EndpointArn\"])\n",
    "    resp = sm_client.describe_endpoint(EndpointName=endpointName)\n",
    "    print(\"Endpoint Status: \" + resp[\"EndpointStatus\"])\n",
    "    print(\"Waiting for {} endpoint to be in service\".format(\"gpt-sovits-sagemaker-endpoint\"))\n",
    "    waiter = sm_client.get_waiter(\"endpoint_in_service\")\n",
    "    waiter.wait(EndpointName=endpointName)"
   ]
  },
  {
   "cell_type": "code",
   "execution_count": null,
   "id": "adeafb65",
   "metadata": {},
   "outputs": [],
   "source": [
    "create_endpoint()"
   ]
  },
  {
   "cell_type": "markdown",
   "id": "3594fc7d",
   "metadata": {
    "tags": []
   },
   "source": [
    "## Realtime inferecne with sagemaker endpoint"
   ]
  },
  {
   "cell_type": "code",
   "execution_count": 26,
   "id": "3a4dae12",
   "metadata": {},
   "outputs": [],
   "source": [
    "import json\n",
    "import boto3\n",
    "endpointName=\"gpt-sovits-inference-2024-04-25-10-16-53-582\"\n",
    "runtime_sm_client = boto3.client(service_name=\"sagemaker-runtime\")\n",
    "#endpointName=\"gpt-sovits-sagemaker-endpoint2024-04-03-23-49-44\"\n",
    "request = {\"refer_wav_path\":\"s3://sagemaker-us-west-2-687912291502/gpt-sovits/wav/speech_20240425104005663.mp3\",\n",
    "    \"prompt_text\": \"私はスポーツが好きな女の子で、私は中華料理が大好きで、私は中国へ旅行するのが好きで、特に杭州、成都が好きです\",\n",
    "    \"prompt_language\":\"ja\",\n",
    "    \"text\":\"私には気にしないで、あなたは四海を家とすることを約束します,私を待っていても気にしないで、あなたの白髪を許す\",\n",
    "    \"text_language\" :\"ja\",\n",
    "    \"output_s3uri\":\"s3://sagemaker-us-west-2-687912291502/gpt_sovits_output/wav/\"}\n",
    "\n",
    "def invoke_endpoint():\n",
    "    content_type = \"application/json\"\n",
    "    request_body = request\n",
    "    payload = json.dumps(request_body)\n",
    "    print(payload)\n",
    "    response = runtime_sm_client.invoke_endpoint(\n",
    "        EndpointName=endpointName,\n",
    "        ContentType=content_type,\n",
    "        Body=payload,\n",
    "    )\n",
    "    result = response['Body'].read().decode()\n",
    "    print('返回：',result)"
   ]
  },
  {
   "cell_type": "code",
   "execution_count": 27,
   "id": "b01f4489",
   "metadata": {
    "tags": []
   },
   "outputs": [
    {
     "name": "stdout",
     "output_type": "stream",
     "text": [
      "{\"refer_wav_path\": \"s3://sagemaker-us-west-2-687912291502/gpt-sovits/wav/speech_20240425104005663.mp3\", \"prompt_text\": \"\\u79c1\\u306f\\u30b9\\u30dd\\u30fc\\u30c4\\u304c\\u597d\\u304d\\u306a\\u5973\\u306e\\u5b50\\u3067\\u3001\\u79c1\\u306f\\u4e2d\\u83ef\\u6599\\u7406\\u304c\\u5927\\u597d\\u304d\\u3067\\u3001\\u79c1\\u306f\\u4e2d\\u56fd\\u3078\\u65c5\\u884c\\u3059\\u308b\\u306e\\u304c\\u597d\\u304d\\u3067\\u3001\\u7279\\u306b\\u676d\\u5dde\\u3001\\u6210\\u90fd\\u304c\\u597d\\u304d\\u3067\\u3059\", \"prompt_language\": \"ja\", \"text\": \"\\u79c1\\u306b\\u306f\\u6c17\\u306b\\u3057\\u306a\\u3044\\u3067\\u3001\\u3042\\u306a\\u305f\\u306f\\u56db\\u6d77\\u3092\\u5bb6\\u3068\\u3059\\u308b\\u3053\\u3068\\u3092\\u7d04\\u675f\\u3057\\u307e\\u3059,\\u79c1\\u3092\\u5f85\\u3063\\u3066\\u3044\\u3066\\u3082\\u6c17\\u306b\\u3057\\u306a\\u3044\\u3067\\u3001\\u3042\\u306a\\u305f\\u306e\\u767d\\u9aea\\u3092\\u8a31\\u3059\", \"text_language\": \"ja\", \"output_s3uri\": \"s3://sagemaker-us-west-2-687912291502/gpt_sovits_output/wav/\"}\n",
      "返回： {\"result\":\"s3://sagemaker-us-west-2-687912291502/gpt_sovits_output/wav/gpt_sovits_1714042297.wav\"}\n"
     ]
    }
   ],
   "source": [
    "response=invoke_endpoint()"
   ]
  },
  {
   "cell_type": "code",
   "execution_count": 28,
   "id": "d7ae7796-8d05-47af-8979-19bdb8c35cfc",
   "metadata": {
    "tags": []
   },
   "outputs": [
    {
     "name": "stdout",
     "output_type": "stream",
     "text": [
      "download: s3://sagemaker-us-west-2-687912291502/gpt_sovits_output/wav/gpt_sovits_1714042297.wav to ./gpt_sovits_1714042297.wav\n"
     ]
    }
   ],
   "source": [
    "!aws s3 cp s3://sagemaker-us-west-2-687912291502/gpt_sovits_output/wav/gpt_sovits_1714042297.wav ./"
   ]
  },
  {
   "cell_type": "code",
   "execution_count": null,
   "id": "d8817f0c-dd4b-41e4-a6a4-1e601807cbe9",
   "metadata": {},
   "outputs": [],
   "source": []
  }
 ],
 "metadata": {
  "kernelspec": {
   "display_name": "conda_python3",
   "language": "python",
   "name": "conda_python3"
  },
  "language_info": {
   "codemirror_mode": {
    "name": "ipython",
    "version": 3
   },
   "file_extension": ".py",
   "mimetype": "text/x-python",
   "name": "python",
   "nbconvert_exporter": "python",
   "pygments_lexer": "ipython3",
   "version": "3.10.12"
  }
 },
 "nbformat": 4,
 "nbformat_minor": 5
}
