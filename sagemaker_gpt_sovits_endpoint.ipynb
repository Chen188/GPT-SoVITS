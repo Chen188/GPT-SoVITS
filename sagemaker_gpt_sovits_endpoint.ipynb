{
 "cells": [
  {
   "cell_type": "markdown",
   "id": "096b3004",
   "metadata": {},
   "source": [
    "# GPT-SoVITS on Sagemaker - for Astra"
   ]
  },
  {
   "cell_type": "markdown",
   "id": "21ec2e51",
   "metadata": {},
   "source": [
    "## Build image"
   ]
  },
  {
   "cell_type": "code",
   "execution_count": null,
   "id": "07fd36b7",
   "metadata": {
    "tags": []
   },
   "outputs": [],
   "source": [
    "!chmod +x ./*.sh && ./build_and_push.sh "
   ]
  },
  {
   "cell_type": "code",
   "execution_count": null,
   "id": "11514ade-df1c-4260-8797-83bfc5b279e7",
   "metadata": {
    "tags": []
   },
   "outputs": [],
   "source": [
    "import boto3\n",
    "import sagemaker\n",
    "from sagemaker import Model, image_uris, serializers, deserializers\n",
    "\n",
    "role = sagemaker.get_execution_role()  # execution role for the endpoint\n",
    "sess = sagemaker.session.Session()  # sagemaker session for interacting with different AWS APIs\n",
    "region = sess._region_name  # region name of the current SageMaker Studio environment\n",
    "account_id = sess.account_id()  # account_id of the current SageMaker Studio environment\n",
    "bucket = sess.default_bucket()\n",
    "image=\"gpt-sovits-inference\"\n",
    "s3_client = boto3.client(\"s3\")\n",
    "sm_client = boto3.client(\"sagemaker\")\n",
    "smr_client = boto3.client(\"sagemaker-runtime\")\n",
    "\n",
    "full_image_uri=f\"{account_id}.dkr.ecr.{region}.amazonaws.com/{image}:latest\"\n",
    "print(full_image_uri)\n"
   ]
  },
  {
   "cell_type": "markdown",
   "id": "6abe8919-0bb9-43c0-8d03-4a2a2a1e9a2e",
   "metadata": {
    "jp-MarkdownHeadingCollapsed": true,
    "tags": []
   },
   "source": [
    "## SageMaker endpoint Deployment"
   ]
  },
  {
   "cell_type": "markdown",
   "id": "a1663aa2",
   "metadata": {
    "tags": []
   },
   "source": [
    "### Create sagemaker model"
   ]
  },
  {
   "cell_type": "code",
   "execution_count": null,
   "id": "3623fcd0",
   "metadata": {},
   "outputs": [],
   "source": [
    "import boto3\n",
    "import re\n",
    "import os\n",
    "import json\n",
    "import boto3\n",
    "import sagemaker\n",
    "from time import gmtime, strftime\n",
    "## for debug only\n",
    "sm_client = boto3.client(service_name='sagemaker')\n",
    "\n",
    "def create_model():\n",
    "    image=full_image_uri\n",
    "    model_name=\"gpt-sovits-sagemaker-\"+strftime(\"%Y-%m-%d-%H-%M-%S\", gmtime())\n",
    "    create_model_response = sm_client.create_model(\n",
    "        ModelName=model_name,\n",
    "        ExecutionRoleArn=role,\n",
    "        Containers=[{\"Image\": image}],\n",
    "    )\n",
    "    print(create_model_response)\n",
    "    return model_name"
   ]
  },
  {
   "cell_type": "code",
   "execution_count": null,
   "id": "e913d8d0",
   "metadata": {},
   "outputs": [],
   "source": [
    "model_name=create_model()"
   ]
  },
  {
   "cell_type": "markdown",
   "id": "4159960d",
   "metadata": {
    "tags": []
   },
   "source": [
    "### Create endpoint configuration"
   ]
  },
  {
   "cell_type": "code",
   "execution_count": null,
   "id": "01b4ba47",
   "metadata": {},
   "outputs": [],
   "source": [
    "endpointConfigName = \"gpt-sovits-sagemaker-configuration-\"+strftime(\"%Y-%m-%d-%H-%M-%S\", gmtime())\n",
    "def create_endpoint_configuration():\n",
    "    create_endpoint_config_response = sm_client.create_endpoint_config(     \n",
    "        EndpointConfigName=endpointConfigName,\n",
    "        ProductionVariants=[\n",
    "            {\n",
    "                \"ModelName\":model_name,\n",
    "                \"VariantName\": \"gpt-sovits-sagemaker\"+\"-variant\",\n",
    "                \"InstanceType\": \"ml.g5.xlarge\",  # 指定 g5.xlarge 机器\n",
    "                \"InitialInstanceCount\": 1,\n",
    "                \"ModelDataDownloadTimeoutInSeconds\": 1200,\n",
    "                \"ContainerStartupHealthCheckTimeoutInSeconds\": 1200\n",
    "            }\n",
    "        ],\n",
    "    )\n",
    "    print(create_endpoint_config_response)\n",
    "    return endpointConfigName\n"
   ]
  },
  {
   "cell_type": "code",
   "execution_count": null,
   "id": "d06fb9ae",
   "metadata": {},
   "outputs": [],
   "source": [
    "create_endpoint_configuration()\n"
   ]
  },
  {
   "cell_type": "markdown",
   "id": "e6e35082",
   "metadata": {
    "tags": []
   },
   "source": [
    "### Create endpoint"
   ]
  },
  {
   "cell_type": "code",
   "execution_count": null,
   "id": "40abb7a9",
   "metadata": {},
   "outputs": [],
   "source": [
    "endpointName=\"gpt-sovits-sagemaker-endpoint\"+strftime(\"%Y-%m-%d-%H-%M-%S\", gmtime())\n",
    "def create_endpoint():\n",
    "    create_endpoint_response = sm_client.create_endpoint(\n",
    "        EndpointName=endpointName,\n",
    "        EndpointConfigName=endpointConfigName\n",
    "    )\n",
    "    print(\"Endpoint Arn: \" + create_endpoint_response[\"EndpointArn\"])\n",
    "    resp = sm_client.describe_endpoint(EndpointName=endpointName)\n",
    "    print(\"Endpoint Status: \" + resp[\"EndpointStatus\"])\n",
    "    print(\"Waiting for {} endpoint to be in service\".format(\"gpt-sovits-sagemaker-endpoint\"))\n",
    "    waiter = sm_client.get_waiter(\"endpoint_in_service\")\n",
    "    waiter.wait(EndpointName=endpointName)"
   ]
  },
  {
   "cell_type": "code",
   "execution_count": null,
   "id": "adeafb65",
   "metadata": {},
   "outputs": [],
   "source": [
    "create_endpoint()"
   ]
  },
  {
   "cell_type": "markdown",
   "id": "9e41b30b-e8f7-4c7f-853f-7d861c12c543",
   "metadata": {},
   "source": [
    "## Endpoint Test - Stream mode"
   ]
  },
  {
   "cell_type": "code",
   "execution_count": 18,
   "id": "ac28f418-dd4f-4dab-a7cb-412b5048df28",
   "metadata": {
    "tags": []
   },
   "outputs": [],
   "source": [
    "import wave\n",
    "import json\n",
    "from collections import defaultdict\n",
    "\n",
    "def invoke_streams_endpoint(smr_client, endpointName, request):\n",
    "    content_type = \"application/json\"\n",
    "    payload = json.dumps(request, ensure_ascii=False)\n",
    "\n",
    "    response_model = smr_client.invoke_endpoint_with_response_stream(\n",
    "        EndpointName=endpointName,\n",
    "        ContentType=content_type,\n",
    "        Body=payload,\n",
    "    )\n",
    "\n",
    "    print(response_model['ResponseMetadata'])\n",
    "    event_stream = response_model['Body']\n",
    "    \n",
    "    result = defaultdict(dict)\n",
    "    for index, event in enumerate(event_stream):\n",
    "        chunk = event['PayloadPart']['Bytes']\n",
    "        \n",
    "        result[index] = {\n",
    "            'first_chunk': index == 0,\n",
    "            'bytes': chunk,\n",
    "            'last_chunk': False,\n",
    "            'index': index\n",
    "        }\n",
    "        \n",
    "        if index < 5:\n",
    "            print(f\"chunk {index} len:\", len(chunk))\n",
    "\n",
    "    # Update the last chunk\n",
    "    last_index = max(result.keys())\n",
    "    result[last_index]['last_chunk'] = True\n",
    "\n",
    "    print(\"result\", dict(result))\n",
    "    return list(result.values())\n",
    "\n",
    "def audio_chunks_to_wav(audio_chunks, output_filename, channels=1, sample_width=2, sample_rate=16000):\n",
    "    with wave.open(output_filename, 'wb') as wav_file:\n",
    "        wav_file.setnchannels(channels)\n",
    "        wav_file.setsampwidth(sample_width)\n",
    "        wav_file.setframerate(sample_rate)\n",
    "        \n",
    "        for chunk in audio_chunks:\n",
    "            wav_file.writeframes(chunk['bytes'])\n",
    "\n",
    "    print(f\"WAV file '{output_filename}' has been created.\")\n"
   ]
  },
  {
   "cell_type": "code",
   "execution_count": null,
   "id": "4916e088",
   "metadata": {},
   "outputs": [],
   "source": [
    "# Copy reference wav into S3\n",
    "! aws s3 cp ./ref_dayu_2s.wav s3://$bucket/gpt-sovits/wav_ref/ref_dayu_2s.wav"
   ]
  },
  {
   "cell_type": "code",
   "execution_count": 13,
   "id": "da64eb21-35dd-49c0-9356-9b5833fee9d0",
   "metadata": {
    "tags": []
   },
   "outputs": [],
   "source": [
    "import json\n",
    "import boto3\n",
    "runtime_sm_client = boto3.client(service_name=\"sagemaker-runtime\", region_name=region)\n",
    "\n",
    "request = {\"refer_wav_path\": f\"s3://{bucket}/gpt-sovits/wav_ref/ref_dayu_2s.wav\",\n",
    "    \"prompt_text\": \"第二次看完大鱼海棠\",\n",
    "    \"prompt_language\":\"zh\",\n",
    "    \"text\":\"作为SAP基础架构专家,我来解释一下SAP Basis的含义:SAP Basis是指SAP系统的基础设施层,负责管理和维护整个SAP系统环境的运行。它包括以下几个主要方面:SAP系统管理包括SAP系统实例的安装、启动、监控、备份、升级等日常管理任务。Basis团队负责保证系统的正常运行。\",\n",
    "    \"text_language\" :\"zh\",\n",
    "    \"output_s3uri\":\"\",\n",
    "    \"cut_punc\":\",，.。:：!！\\\"”'‘\"\n",
    "}\n"
   ]
  },
  {
   "cell_type": "code",
   "execution_count": null,
   "id": "b206b8ed-1321-4963-b476-10bff2d985e4",
   "metadata": {
    "tags": []
   },
   "outputs": [],
   "source": [
    "response=invoke_streams_endpoint(runtime_sm_client,endpointName,request)"
   ]
  },
  {
   "cell_type": "code",
   "execution_count": null,
   "id": "e8276b56",
   "metadata": {},
   "outputs": [],
   "source": [
    "audio_chunks_to_wav(response, \"output.wav\", sample_rate=32000)"
   ]
  }
 ],
 "metadata": {
  "kernelspec": {
   "display_name": "python_310",
   "language": "python",
   "name": "python3"
  },
  "language_info": {
   "codemirror_mode": {
    "name": "ipython",
    "version": 3
   },
   "file_extension": ".py",
   "mimetype": "text/x-python",
   "name": "python",
   "nbconvert_exporter": "python",
   "pygments_lexer": "ipython3",
   "version": "3.10.13"
  }
 },
 "nbformat": 4,
 "nbformat_minor": 5
}
